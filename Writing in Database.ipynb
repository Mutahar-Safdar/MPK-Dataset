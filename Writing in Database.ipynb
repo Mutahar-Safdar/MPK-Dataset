{
  "nbformat": 4,
  "nbformat_minor": 0,
  "metadata": {
    "colab": {
      "provenance": []
    },
    "kernelspec": {
      "name": "python3",
      "display_name": "Python 3"
    },
    "language_info": {
      "name": "python"
    }
  },
  "cells": [
    {
      "cell_type": "code",
      "execution_count": 1,
      "metadata": {
        "id": "zJAfqtPbE3nG"
      },
      "outputs": [],
      "source": [
        "import h5py\n",
        "group_name = 'source13'\n",
        "subgroup_name = 'P4'\n",
        "destination_hdf5_file = '/content/drive/MyDrive/MeltPoolViT/Final_DatasetV2.h5'\n",
        "with h5py.File(destination_hdf5_file, 'a') as hdf5_file:\n",
        "    hdf5_file.create_group(f\"{group_name}/{subgroup_name}\").create_dataset('rawdata', data=final_array, compression=\"gzip\")"
      ]
    }
  ]
}