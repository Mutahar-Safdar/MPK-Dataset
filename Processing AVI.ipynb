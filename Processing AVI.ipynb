{
 "cells": [
  {
   "cell_type": "code",
   "execution_count": null,
   "id": "5c942955-d73d-4508-8e26-6e67a5734e2e",
   "metadata": {},
   "outputs": [],
   "source": [
    "import cv2\n",
    "\n",
    "# Path to your .avi file\n",
    "video_path = '/In situ MWIR SWIR NIR/tqrt_a_1829889_sm5505.avi'\n",
    "\n",
    "# Directory to save the frames\n",
    "output_dir = '/In situ MWIR SWIR NIR/tqrt_a_1829889_sm5505'\n",
    "\n",
    "# Create the output directory if it doesn't exist\n",
    "os.makedirs(output_dir, exist_ok=True)\n",
    "\n",
    "# Open the video file\n",
    "cap = cv2.VideoCapture(video_path)\n",
    "\n",
    "# Initialize frame count\n",
    "frame_count = 0\n",
    "\n",
    "# Read until video is completed\n",
    "while cap.isOpened():\n",
    "    # Read a frame from the video\n",
    "    ret, frame = cap.read()\n",
    "\n",
    "    if not ret:\n",
    "        break\n",
    "\n",
    "    # Save the frame as a PNG image file\n",
    "    frame_path = os.path.join(output_dir, f\"frame_{frame_count:04d}.png\")\n",
    "    cv2.imwrite(frame_path, frame)\n",
    "\n",
    "    # Increment frame count\n",
    "    frame_count += 1\n",
    "\n",
    "# Release the video capture object and close the video file\n",
    "cap.release()"
   ]
  }
 ],
 "metadata": {
  "kernelspec": {
   "display_name": "Python 3 (ipykernel)",
   "language": "python",
   "name": "python3"
  },
  "language_info": {
   "codemirror_mode": {
    "name": "ipython",
    "version": 3
   },
   "file_extension": ".py",
   "mimetype": "text/x-python",
   "name": "python",
   "nbconvert_exporter": "python",
   "pygments_lexer": "ipython3",
   "version": "3.10.13"
  }
 },
 "nbformat": 4,
 "nbformat_minor": 5
}
