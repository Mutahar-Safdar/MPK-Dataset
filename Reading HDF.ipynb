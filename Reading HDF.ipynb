{
 "cells": [
  {
   "cell_type": "code",
   "execution_count": null,
   "id": "5c942955-d73d-4508-8e26-6e67a5734e2e",
   "metadata": {},
   "outputs": [],
   "source": [
    "import h5py\n",
    "\n",
    "# Path to your HDF5 file\n",
    "file_path = '/AM Bench 2022 Thermography/AMB2022-01-718-AMMT-B8-StaringCamera_Signal.h5'\n",
    "\n",
    "# Open the HDF5 file\n",
    "with h5py.File(file_path, 'r') as file:\n",
    "    # List all groups in the file\n",
    "    print(\"Groups in HDF5 file:\")\n",
    "    for group in file.keys():\n",
    "        print(f\"  {group}\")\n",
    "\n",
    "    # Access a specific group\n",
    "    group_name = 'ThermalData'\n",
    "    if group_name in file:\n",
    "        group = file[group_name]\n",
    "\n",
    "        # List all datasets in the group\n",
    "        print(\"\\nDatasets in group:\")\n",
    "        for dataset in group.keys():\n",
    "            print(f\"  {dataset}\")\n",
    "\n",
    "        # Access a specific dataset\n",
    "        dataset_name = '1'\n",
    "        if dataset_name in group:\n",
    "            dataset = group[dataset_name]\n",
    "            for data in dataset.keys():\n",
    "              print(f\"  {data}\")\n",
    "\n",
    "\n",
    "            # Read the dataset into a NumPy array\n",
    "            data = dataset['Signal']\n",
    "            print(\"\\nData from dataset:\")\n",
    "            print(data)\n",
    "    else:\n",
    "        print(f\"\\nGroup '{group_name}' not found in HDF5 file.\")"
   ]
  },
  {
   "cell_type": "code",
   "execution_count": null,
   "id": "77ddcf9e-36d2-4bda-94b1-af3e457dafc7",
   "metadata": {},
   "outputs": [],
   "source": [
    "def print_hdf5_structure(file_name):\n",
    "    def print_attrs(name, obj):\n",
    "        print(name)\n",
    "\n",
    "    with h5py.File(file_name, 'r') as f:\n",
    "        f.visititems(print_attrs)\n",
    "\n",
    "# full structure\n",
    "print_hdf5_structure('/Final_DatasetV2.h5')"
   ]
  }
 ],
 "metadata": {
  "kernelspec": {
   "display_name": "Python 3 (ipykernel)",
   "language": "python",
   "name": "python3"
  },
  "language_info": {
   "codemirror_mode": {
    "name": "ipython",
    "version": 3
   },
   "file_extension": ".py",
   "mimetype": "text/x-python",
   "name": "python",
   "nbconvert_exporter": "python",
   "pygments_lexer": "ipython3",
   "version": "3.10.13"
  }
 },
 "nbformat": 4,
 "nbformat_minor": 5
}
