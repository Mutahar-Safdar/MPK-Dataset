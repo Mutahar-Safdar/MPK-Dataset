{
  "nbformat": 4,
  "nbformat_minor": 0,
  "metadata": {
    "colab": {
      "provenance": []
    },
    "kernelspec": {
      "name": "python3",
      "display_name": "Python 3"
    },
    "language_info": {
      "name": "python"
    }
  },
  "cells": [
    {
      "cell_type": "code",
      "execution_count": null,
      "metadata": {
        "id": "zJAfqtPbE3nG"
      },
      "outputs": [],
      "source": [
        "# Define the HDF5 file path and group/subgroup names\n",
        "group_name = 'source13'\n",
        "subgroup_name = 'P1'\n",
        "data_name = 'rawdata'\n",
        "destination_hdf5_file = '/content/drive/MyDrive/MeltPoolViT/Final_DatasetV2.h5'\n",
        "\n",
        "# Open the HDF5 file\n",
        "with h5py.File(destination_hdf5_file, 'r') as hdf:\n",
        "    # Navigate to the specified group, subgroup, and dataset\n",
        "    dataset = hdf[group_name][subgroup_name][data_name]\n",
        "\n",
        "    # Display some details about the dataset\n",
        "    print(f\"Dataset '{data_name}' details: {dataset.shape}, dtype: {dataset.dtype}\")\n",
        "\n",
        "    # Determine the indices for every 10th image\n",
        "    indices = range(0, dataset.shape[0], 10)\n",
        "\n",
        "    # Visualize one image out of every ten\n",
        "    for idx in indices:\n",
        "        dat = dataset[idx, :, :]\n",
        "        print(np.mean(dat))\n",
        "        print(np.max(dat))\n",
        "        plt.figure(figsize=(10, 10))  # Increase figure size\n",
        "        plt.imshow(np.mean(dat, axis=2).astype(np.uint8), cmap='gray')  # Adjust aspect ratio\n",
        "        plt.axis('off')\n",
        "        plt.title(f\"Image {idx+1}\")\n",
        "        plt.show()  # Ensure image is displayed"
      ]
    }
  ]
}