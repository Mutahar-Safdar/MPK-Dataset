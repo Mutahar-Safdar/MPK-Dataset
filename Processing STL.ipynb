{
  "nbformat": 4,
  "nbformat_minor": 0,
  "metadata": {
    "colab": {
      "provenance": []
    },
    "kernelspec": {
      "name": "python3",
      "display_name": "Python 3"
    },
    "language_info": {
      "name": "python"
    }
  },
  "cells": [
    {
      "cell_type": "code",
      "execution_count": 1,
      "metadata": {
        "id": "zJAfqtPbE3nG"
      },
      "outputs": [],
      "source": [
        "import trimesh\n",
        "import matplotlib.pyplot as plt\n",
        "from mpl_toolkits.mplot3d.art3d import Poly3DCollection\n",
        "\n",
        "# Load the STL file\n",
        "file_path = '/content/drive/MyDrive/MeltPoolViT/3D scanning Pyramid/3D scanning data for pyramid sample/layer 1_final.stl'\n",
        "mesh = trimesh.load_mesh(file_path)\n",
        "\n",
        "# Get the number of vertices and faces\n",
        "num_vertices = len(mesh.vertices)\n",
        "num_faces = len(mesh.faces)\n",
        "\n",
        "print(f\"Number of vertices: {num_vertices}\")\n",
        "print(f\"Number of faces: {num_faces}\")\n",
        "# Example 2D array with shape (620498, 3)\n",
        "# Replace this with your actual data\n",
        "array_2d = np.array(mesh.vertices)\n",
        "\n",
        "# Extract x, y, z coordinates\n",
        "x_coords = array_2d[:, 0]\n",
        "y_coords = array_2d[:, 1]\n",
        "z_coords = array_2d[:, 2]\n",
        "\n",
        "# Determine the resolution of the output image\n",
        "resolution = 640*480\n",
        "\n",
        "# Normalize x and y coordinates to fit the resolution\n",
        "x_normalized = (x_coords - x_coords.min()) / (x_coords.max() - x_coords.min())\n",
        "y_normalized = (y_coords - y_coords.min()) / (y_coords.max() - y_coords.min())\n",
        "\n",
        "# Map to pixel positions\n",
        "x_pixels = (x_normalized * (640 - 1)).astype(int)\n",
        "y_pixels = (y_normalized * (480 - 1)).astype(int)\n",
        "\n",
        "# Initialize a 2D array to store the maximum z values\n",
        "image = np.zeros((640, 480))\n",
        "\n",
        "# Assign intensity values based on z coordinates\n",
        "for x, y, z in zip(x_pixels, y_pixels, z_coords):\n",
        "    if z > image[x, y]:\n",
        "        image[x, y] = z\n",
        "\n",
        "# Normalize the z values to the range 0-255 for grayscale\n",
        "image_normalized = 255 * (image - image.min()) / (image.max() - image.min())\n",
        "grayscale_image = image_normalized.astype(np.uint8)\n",
        "\n",
        "# Plot the grayscale image\n",
        "plt.imshow(grayscale_image, cmap='gray')\n",
        "plt.colorbar()\n",
        "plt.title('Grayscale Image from 3D Points')\n",
        "plt.show()"
      ]
    }
  ]
}