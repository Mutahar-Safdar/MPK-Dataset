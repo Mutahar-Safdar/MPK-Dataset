{
  "nbformat": 4,
  "nbformat_minor": 0,
  "metadata": {
    "colab": {
      "provenance": []
    },
    "kernelspec": {
      "name": "python3",
      "display_name": "Python 3"
    },
    "language_info": {
      "name": "python"
    }
  },
  "cells": [
    {
      "cell_type": "code",
      "execution_count": 1,
      "metadata": {
        "id": "zJAfqtPbE3nG"
      },
      "outputs": [],
      "source": [
        "import tifffile as tiff\n",
        "\n",
        "# Path to the TIF file\n",
        "tif_file_path = '/content/drive/MyDrive/MeltPoolViT/NIST 16X Overhang/MPMcameraTIF_L001-025.zip (Unzipped Files)/MPMcamera_L0006.tif'\n",
        "\n",
        "# Load the TIF file\n",
        "tif_images = tiff.imread(tif_file_path)\n",
        "\n",
        "# Check the shape of the loaded images\n",
        "print(f'Shape of TIF images: {tif_images.shape}')\n",
        "\n",
        "# Display the images\n",
        "for i in range(tif_images.shape[0]):\n",
        "    plt.imshow(tif_images[i], cmap='gray')\n",
        "    plt.title(f'Image {i + 1}')\n",
        "    plt.axis('off')\n",
        "    plt.show()"
      ]
    }
  ]
}