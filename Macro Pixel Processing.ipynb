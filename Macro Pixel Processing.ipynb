{
  "nbformat": 4,
  "nbformat_minor": 0,
  "metadata": {
    "colab": {
      "provenance": []
    },
    "kernelspec": {
      "name": "python3",
      "display_name": "Python 3"
    },
    "language_info": {
      "name": "python"
    }
  },
  "cells": [
    {
      "cell_type": "code",
      "execution_count": 1,
      "metadata": {
        "id": "zJAfqtPbE3nG"
      },
      "outputs": [],
      "source": [
        "import numpy as np\n",
        "import skimage.io\n",
        "import matplotlib.pyplot as plt\n",
        "\n",
        "MPX_SHAPE = (5,5) # 3D-One Avior macropixel shape\n",
        "MPX_CORNER = [1,1] # macropixel corner location for a 250x250 image (see macropxCorner MATLAB function), in 0-base indexing!\n",
        "WL_PEAK = np.array([918, 926, 936, 945, 954, 858, 870, 884, 895, 904, 794, 810, 820, 833, 848, 730, 742, 755, 771, 784, 731, 742, 690, 703, 714])\n",
        "\n",
        "def mosaic_mask(wl_idx, img):\n",
        "    \"\"\"\n",
        "    Extract one debayered channel/wavelength from a hyperspectral mosaic image:\n",
        "    1. Clips incomplete macropixels: 250x250 --> 245x245\n",
        "    2. Extracts one pixel per macropixel to reconstruct one 49x49 image for the selected wavelength: 245x245 --> 49x49x25\n",
        "    \"\"\"\n",
        "    img = img[MPX_CORNER[0]:img.shape[0], MPX_CORNER[1]:img.shape[1]] # first the image is cropped from the corner of the 1st macropixel\n",
        "    img = img[0:img.shape[0]-np.mod(img.shape[0],MPX_SHAPE[0]), 0:img.shape[1]-np.mod(img.shape[1],MPX_SHAPE[1])] # then the image is cropped after the last full macropixel\n",
        "    masked_im_shape = [int(img.shape[0]/MPX_SHAPE[0]), int(img.shape[1]/MPX_SHAPE[1])] # image length and width are divided by the macropixel length and width\n",
        "    mpx_mask = np.zeros(MPX_SHAPE)\n",
        "    mpx_mask[np.unravel_index([wl_idx], MPX_SHAPE)]=1\n",
        "    # wavelength ordering (see 3D-One Avior manual and mosaic code documentation):\n",
        "    # >>> for i in range(25):\n",
        "    # ...     filter[np.unravel_index([i],[5,5])]=i;\n",
        "    # >>> filter\n",
        "    # array([[ 0.,  1.,  2.,  3.,  4.],\n",
        "    #        [ 5.,  6.,  7.,  8.,  9.],\n",
        "    #        [10., 11., 12., 13., 14.],\n",
        "    #        [15., 16., 17., 18., 19.],\n",
        "    #        [20., 21., 22., 23., 24.]])\n",
        "\n",
        "    img_mask = np.tile(mpx_mask, masked_im_shape).astype(bool) # repeat the macropixel mask to cover whole image\n",
        "    masked_img = img[img_mask].reshape(masked_im_shape)\n",
        "    return masked_img\n",
        "\n",
        "def debayer(img):\n",
        "    \"\"\" Debayer an [H,W] image to a [H,W,C] shape (ToTensor() input shape)\n",
        "    \"\"\"\n",
        "    deb_img0 = mosaic_mask(0, img) # get 1st image to know size\n",
        "    deb_img = np.zeros((deb_img0.shape[0], deb_img0.shape[1], 25), dtype=np.uint8) # preallocate debayered image\n",
        "    deb_img[:,:,0] = deb_img0\n",
        "    for i in range(1,25):\n",
        "        deb_img[:,:,i] = mosaic_mask(i,img) # debayer each wavelength\n",
        "    return np.mean(deb_img, axis=2).astype(np.uint8)"
      ]
    }
  ]
}