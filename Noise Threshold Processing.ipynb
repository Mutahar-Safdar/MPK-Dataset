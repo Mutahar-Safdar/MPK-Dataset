{
 "cells": [
  {
   "cell_type": "code",
   "execution_count": null,
   "id": "5c942955-d73d-4508-8e26-6e67a5734e2e",
   "metadata": {},
   "outputs": [],
   "source": [
    "from scipy import stats\n",
    "\n",
    "# Define the HDF5 file path and group/subgroup names\n",
    "group_name = 'source15'\n",
    "subgroup_name = 'pyro'\n",
    "data_name = 'rawdata'\n",
    "destination_hdf5_file = '/Final_DatasetV2.h5'\n",
    "processed = []\n",
    "\n",
    "for dat in data_array:\n",
    "    dat = dat[..., ::-1]\n",
    "    dat = convert_jet_to_grey(dat)\n",
    "    if np.mean(dat)<49:\n",
    "      processed.append(dat)"
   ]
  }
 ],
 "metadata": {
  "kernelspec": {
   "display_name": "Python 3 (ipykernel)",
   "language": "python",
   "name": "python3"
  },
  "language_info": {
   "codemirror_mode": {
    "name": "ipython",
    "version": 3
   },
   "file_extension": ".py",
   "mimetype": "text/x-python",
   "name": "python",
   "nbconvert_exporter": "python",
   "pygments_lexer": "ipython3",
   "version": "3.10.13"
  }
 },
 "nbformat": 4,
 "nbformat_minor": 5
}
